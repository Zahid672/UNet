{
 "cells": [
  {
   "cell_type": "code",
   "execution_count": 1,
   "metadata": {},
   "outputs": [],
   "source": [
    "import torch\n",
    "from torch import nn\n",
    "from torch.nn import functional as F\n",
    "\n",
    "from torch.nn import Conv2d"
   ]
  },
  {
   "cell_type": "code",
   "execution_count": 8,
   "metadata": {},
   "outputs": [],
   "source": [
    "enc_features2 = torch.randn(1, 32, 256, 256)\n",
    "\n",
    "dec_features2 = torch.randn(1, 32, 256, 256) "
   ]
  },
  {
   "cell_type": "code",
   "execution_count": 26,
   "metadata": {},
   "outputs": [],
   "source": [
    "test_data = torch.randn(1, 32, 1, 1)\n",
    "C1 = 32\n",
    "N= int(1/16 * C1)\n",
    "test_data = test_data.squeeze(3)# test_data.view(1, C1, 1)\n",
    "\n",
    "conv1x1_enc = nn.Conv1d(\n",
    "            in_channels=C1,  \n",
    "            out_channels=N, \n",
    "            kernel_size=1, \n",
    "            stride=1, \n",
    "        )\n",
    "\n",
    "out = conv1x1_enc(test_data)"
   ]
  },
  {
   "cell_type": "code",
   "execution_count": 27,
   "metadata": {},
   "outputs": [
    {
     "data": {
      "text/plain": [
       "torch.Size([1, 32, 1])"
      ]
     },
     "execution_count": 27,
     "metadata": {},
     "output_type": "execute_result"
    }
   ],
   "source": [
    "test_data.shape"
   ]
  },
  {
   "cell_type": "code",
   "execution_count": 28,
   "metadata": {},
   "outputs": [
    {
     "data": {
      "text/plain": [
       "(torch.Size([1, 2, 1]), torch.Size([1, 2, 1, 1]))"
      ]
     },
     "execution_count": 28,
     "metadata": {},
     "output_type": "execute_result"
    }
   ],
   "source": [
    "# [1, N, 1,1]\n",
    "out1 = out.unsqueeze(3) #out.view(1, N, 1, 1)\n",
    "out.shape, out1.shape"
   ]
  },
  {
   "cell_type": "code",
   "execution_count": 6,
   "metadata": {},
   "outputs": [],
   "source": [
    "class Spatial_Attention(nn.Module):\n",
    "    def __init__(self,  enc_in_channels, dec_in_channels):\n",
    "        super(Spatial_Attention, self).__init__()\n",
    "        self.max_pool = nn.MaxPool2d(kernel_size=2, stride=1, padding=0)\n",
    "        self.avg_pool = nn.AvgPool2d(kernel_size=2, stride=1, padding=0)\n",
    "        self.conv1x1_enc = nn.Conv1d(\n",
    "            in_channels=64,  \n",
    "            out_channels=1, \n",
    "            kernel_size=3, \n",
    "            stride=2, \n",
    "            padding=1\n",
    "        )\n",
    "        \n",
    "        \n",
    "        \n",
    "        self.conv1x1_dec = nn.Conv2d(\n",
    "            in_channels=64,\n",
    "            out_channels=1,  \n",
    "            kernel_size=3,\n",
    "            stride=2,\n",
    "            padding=1\n",
    "        )\n",
    "        \n",
    "        \n",
    "        # self.final_conv = nn.Conv2d(\n",
    "        #     in_channels=2,  \n",
    "        #     out_channels=enc_in_channels, \n",
    "        #     kernel_size=7,  \n",
    "        #     padding=3\n",
    "        # )\n",
    "        \n",
    "        self.final_conv = nn.Conv2d(\n",
    "            in_channels=1,  \n",
    "            out_channels=enc_in_channels, \n",
    "            kernel_size=3,  \n",
    "            padding=1\n",
    "        )\n",
    "        \n",
    "        \n",
    "    def forward(self, enc_features, dec_features):\n",
    "        # average pooling\n",
    "        enc_avg_out = self.avg_pool(enc_features)\n",
    "        enc_max_out = self.max_pool(enc_features)\n",
    "        enc_1x1_conv = self.conv1x1_enc(enc_avg_out)\n",
    "        enc_1x1_co = self.conv1x1_enc(enc_max_out)\n",
    "        addition_enc = enc_1x1_conv + enc_1x1_co\n",
    "        \n",
    "        dec_avg_out = self.avg_pool(dec_features)\n",
    "        dec_max_out = self.max_pool(dec_features)\n",
    "        dec_1x1_conv = self.conv1x1_dec(dec_avg_out)\n",
    "        dec_1x1_co = self.conv1x1_dec(dec_max_out)\n",
    "        addition_dec = dec_1x1_conv + dec_1x1_co\n",
    "        \n",
    "        addition_enc_dec = addition_enc + addition_dec\n",
    "        \n",
    "        final_1x1_conv = self.final_conv(addition_enc_dec)\n",
    "        \n",
    "        final_output = torch.sigmoid(final_1x1_conv)\n",
    "        \n",
    "        \n",
    "        return final_output\n",
    "        \n",
    "        \n",
    "        \n",
    "        \n",
    "        \n",
    "        \n",
    "        \n",
    "        "
   ]
  },
  {
   "cell_type": "code",
   "execution_count": 7,
   "metadata": {},
   "outputs": [
    {
     "name": "stdout",
     "output_type": "stream",
     "text": [
      "torch.Size([1, 2, 32, 32])\n"
     ]
    }
   ],
   "source": [
    "model = Spatial_Attention(enc_in_channels=2, dec_in_channels=2)\n",
    "enc_features = torch.randn(1, 64, 64, 64)  # Encoder features\n",
    "dec_features = torch.randn(1, 64, 64, 64)  # Decoder features\n",
    "\n",
    "output = model(enc_features, dec_features)\n",
    "print(output.shape)  "
   ]
  },
  {
   "cell_type": "code",
   "execution_count": 39,
   "metadata": {},
   "outputs": [
    {
     "data": {
      "text/plain": [
       "torch.Size([1, 2, 255, 255])"
      ]
     },
     "execution_count": 39,
     "metadata": {},
     "output_type": "execute_result"
    }
   ],
   "source": [
    "# model = Spatial_Attention(enc_in_channels=2, dec_in_channels=2)\n",
    "# enc_dec_features = model(enc_features2, dec_features2)\n",
    "# enc_dec_features.shape"
   ]
  }
 ],
 "metadata": {
  "kernelspec": {
   "display_name": "BT_torch",
   "language": "python",
   "name": "python3"
  },
  "language_info": {
   "codemirror_mode": {
    "name": "ipython",
    "version": 3
   },
   "file_extension": ".py",
   "mimetype": "text/x-python",
   "name": "python",
   "nbconvert_exporter": "python",
   "pygments_lexer": "ipython3",
   "version": "3.12.8"
  }
 },
 "nbformat": 4,
 "nbformat_minor": 2
}
