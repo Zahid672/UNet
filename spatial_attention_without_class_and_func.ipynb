{
 "cells": [
  {
   "cell_type": "code",
   "execution_count": 1,
   "metadata": {},
   "outputs": [],
   "source": [
    "import torch\n",
    "from torch import nn\n",
    "from torch.nn import functional as F"
   ]
  },
  {
   "cell_type": "code",
   "execution_count": 2,
   "metadata": {},
   "outputs": [],
   "source": [
    "enc_features = torch.randn(1, 32, 64, 64)"
   ]
  },
  {
   "cell_type": "code",
   "execution_count": 3,
   "metadata": {},
   "outputs": [
    {
     "name": "stdout",
     "output_type": "stream",
     "text": [
      "Output shape after max pooling: torch.Size([1, 32, 1, 1])\n"
     ]
    }
   ],
   "source": [
    "max_pool = nn.MaxPool2d(kernel_size=64)\n",
    "max_output = max_pool(enc_features)\n",
    "print(\"Output shape after max pooling:\", max_output.shape)"
   ]
  },
  {
   "cell_type": "code",
   "execution_count": 4,
   "metadata": {},
   "outputs": [
    {
     "data": {
      "text/plain": [
       "torch.Size([1, 32, 1])"
      ]
     },
     "execution_count": 4,
     "metadata": {},
     "output_type": "execute_result"
    }
   ],
   "source": [
    "squeez_max = max_output.squeeze(-1)\n",
    "\n",
    "squeez_max.shape"
   ]
  },
  {
   "cell_type": "code",
   "execution_count": 5,
   "metadata": {},
   "outputs": [
    {
     "name": "stdout",
     "output_type": "stream",
     "text": [
      "Output shape after 1x1 convolution on max pooling: torch.Size([1, 2, 1])\n"
     ]
    }
   ],
   "source": [
    "con_1x1_max = nn.Conv1d(in_channels=32, out_channels=2, kernel_size=1)\n",
    "max_conv_output = con_1x1_max(squeez_max)\n",
    "print(\"Output shape after 1x1 convolution on max pooling:\", max_conv_output.shape)"
   ]
  },
  {
   "cell_type": "code",
   "execution_count": 6,
   "metadata": {},
   "outputs": [
    {
     "name": "stdout",
     "output_type": "stream",
     "text": [
      "Output shape after average pooling: torch.Size([1, 32, 1, 1])\n"
     ]
    }
   ],
   "source": [
    "avg_pool = nn.AvgPool2d(kernel_size=64)\n",
    "avg_output = avg_pool(enc_features)\n",
    "print(\"Output shape after average pooling:\", avg_output.shape)"
   ]
  },
  {
   "cell_type": "code",
   "execution_count": 7,
   "metadata": {},
   "outputs": [
    {
     "name": "stdout",
     "output_type": "stream",
     "text": [
      "Output shape after 1x1 convolution: torch.Size([1, 2, 1])\n"
     ]
    }
   ],
   "source": [
    "squeez_avg = avg_output.squeeze(-1)\n",
    "\n",
    "conv_1x1_avg = nn.Conv1d(in_channels=32, out_channels=2, kernel_size=1)\n",
    "avg_conv_output = conv_1x1_avg(squeez_avg)\n",
    "print(\"Output shape after 1x1 convolution:\", avg_conv_output.shape)"
   ]
  },
  {
   "cell_type": "code",
   "execution_count": 8,
   "metadata": {},
   "outputs": [
    {
     "data": {
      "text/plain": [
       "torch.Size([1, 2, 1])"
      ]
     },
     "execution_count": 8,
     "metadata": {},
     "output_type": "execute_result"
    }
   ],
   "source": [
    "add_max_avg = max_conv_output + avg_conv_output\n",
    "add_max_avg.shape"
   ]
  },
  {
   "cell_type": "code",
   "execution_count": 9,
   "metadata": {},
   "outputs": [],
   "source": [
    "dec_features = torch.randn(1, 32, 64, 64)"
   ]
  },
  {
   "cell_type": "code",
   "execution_count": 10,
   "metadata": {},
   "outputs": [
    {
     "name": "stdout",
     "output_type": "stream",
     "text": [
      "Output shape after max pooling: torch.Size([1, 32, 1, 1])\n"
     ]
    }
   ],
   "source": [
    "dec_max_pool = nn.MaxPool2d(kernel_size=64)\n",
    "dec_max_output = dec_max_pool(dec_features) \n",
    "print(\"Output shape after max pooling:\", dec_max_output.shape)"
   ]
  },
  {
   "cell_type": "code",
   "execution_count": 11,
   "metadata": {},
   "outputs": [
    {
     "data": {
      "text/plain": [
       "torch.Size([1, 32, 1])"
      ]
     },
     "execution_count": 11,
     "metadata": {},
     "output_type": "execute_result"
    }
   ],
   "source": [
    "dec_squeez_max = dec_max_output.squeeze(-1)\n",
    "dec_squeez_max.shape"
   ]
  },
  {
   "cell_type": "code",
   "execution_count": 12,
   "metadata": {},
   "outputs": [
    {
     "name": "stdout",
     "output_type": "stream",
     "text": [
      "Output shape after 1x1 convolution on max pooling: torch.Size([1, 2, 1])\n"
     ]
    }
   ],
   "source": [
    "dec_con_1x1_max = nn.Conv1d(in_channels=32, out_channels=2, kernel_size=1)\n",
    "dec_max_conv_output = dec_con_1x1_max(dec_squeez_max)\n",
    "print(\"Output shape after 1x1 convolution on max pooling:\", dec_max_conv_output.shape)"
   ]
  },
  {
   "cell_type": "code",
   "execution_count": 13,
   "metadata": {},
   "outputs": [
    {
     "name": "stdout",
     "output_type": "stream",
     "text": [
      "Output shape after average pooling: torch.Size([1, 32, 1, 1])\n"
     ]
    }
   ],
   "source": [
    "dec_avg_pool = nn.AvgPool2d(kernel_size=64)\n",
    "dec_avg_output = dec_avg_pool(dec_features)\n",
    "print(\"Output shape after average pooling:\", dec_avg_output.shape)"
   ]
  },
  {
   "cell_type": "code",
   "execution_count": 14,
   "metadata": {},
   "outputs": [
    {
     "data": {
      "text/plain": [
       "torch.Size([1, 32, 1])"
      ]
     },
     "execution_count": 14,
     "metadata": {},
     "output_type": "execute_result"
    }
   ],
   "source": [
    "dec_squeez_avg = dec_avg_output.squeeze(-1)\n",
    "dec_squeez_avg.shape"
   ]
  },
  {
   "cell_type": "code",
   "execution_count": 15,
   "metadata": {},
   "outputs": [],
   "source": [
    "dec_con_1x1_avg = nn.Conv1d(in_channels=32, out_channels=2, kernel_size=1)\n",
    "dec_avg_conv_output = dec_con_1x1_avg(dec_squeez_avg)"
   ]
  },
  {
   "cell_type": "code",
   "execution_count": 16,
   "metadata": {},
   "outputs": [
    {
     "data": {
      "text/plain": [
       "torch.Size([1, 2, 1])"
      ]
     },
     "execution_count": 16,
     "metadata": {},
     "output_type": "execute_result"
    }
   ],
   "source": [
    "add_dec_max_avg = dec_max_conv_output + dec_avg_conv_output\n",
    "add_dec_max_avg.shape"
   ]
  },
  {
   "cell_type": "code",
   "execution_count": 17,
   "metadata": {},
   "outputs": [
    {
     "data": {
      "text/plain": [
       "torch.Size([1, 2, 1])"
      ]
     },
     "execution_count": 17,
     "metadata": {},
     "output_type": "execute_result"
    }
   ],
   "source": [
    "add_enc_dec = add_max_avg + add_dec_max_avg\n",
    "add_enc_dec.shape"
   ]
  },
  {
   "cell_type": "code",
   "execution_count": 18,
   "metadata": {},
   "outputs": [
    {
     "name": "stdout",
     "output_type": "stream",
     "text": [
      "Output shape after 1x1 convolution on the combined features: torch.Size([1, 32, 1])\n"
     ]
    }
   ],
   "source": [
    "conv_1x1_after_add = nn.Conv1d(in_channels=2, out_channels=32, kernel_size=1)\n",
    "conv_output = conv_1x1_after_add(add_enc_dec)\n",
    "print(\"Output shape after 1x1 convolution on the combined features:\", conv_output.shape)"
   ]
  },
  {
   "cell_type": "code",
   "execution_count": 19,
   "metadata": {},
   "outputs": [
    {
     "data": {
      "text/plain": [
       "torch.Size([1, 32, 1, 1])"
      ]
     },
     "execution_count": 19,
     "metadata": {},
     "output_type": "execute_result"
    }
   ],
   "source": [
    "un_squeez_dim = conv_output.unsqueeze(-1)\n",
    "un_squeez_dim.shape"
   ]
  },
  {
   "cell_type": "code",
   "execution_count": 20,
   "metadata": {},
   "outputs": [
    {
     "name": "stdout",
     "output_type": "stream",
     "text": [
      "Final output shape after sigmoid activation: torch.Size([1, 32, 1, 1])\n"
     ]
    }
   ],
   "source": [
    "final_output = torch.sigmoid(un_squeez_dim)\n",
    "print(\"Final output shape after sigmoid activation:\", final_output.shape)"
   ]
  }
 ],
 "metadata": {
  "kernelspec": {
   "display_name": "BT_torch",
   "language": "python",
   "name": "python3"
  },
  "language_info": {
   "codemirror_mode": {
    "name": "ipython",
    "version": 3
   },
   "file_extension": ".py",
   "mimetype": "text/x-python",
   "name": "python",
   "nbconvert_exporter": "python",
   "pygments_lexer": "ipython3",
   "version": "3.12.8"
  }
 },
 "nbformat": 4,
 "nbformat_minor": 2
}
