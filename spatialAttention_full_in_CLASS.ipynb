{
 "cells": [
  {
   "cell_type": "code",
   "execution_count": 4,
   "metadata": {},
   "outputs": [],
   "source": [
    "import torch\n",
    "from torch import nn\n",
    "from torch.nn import functional as F"
   ]
  },
  {
   "cell_type": "code",
   "execution_count": 5,
   "metadata": {},
   "outputs": [],
   "source": [
    "enc_features = torch.randn(1, 32, 64, 64)\n",
    "dec_features = torch.randn(1, 32, 64, 64)"
   ]
  },
  {
   "cell_type": "code",
   "execution_count": 6,
   "metadata": {},
   "outputs": [],
   "source": [
    "class Spatial_Attention(nn.Module):\n",
    "    def __init__(self, en_in_channels, dec_in_channels):\n",
    "        super().__init__()\n",
    "        \n",
    "        self.avg_pool = nn.AvgPool2d(kernel_size=64)\n",
    "        self.max_pool = nn.MaxPool2d(kernel_size=64)\n",
    "        # self.squeez_max = max_pool.squeeze(-1)\n",
    "        self.con_1x1_enc = nn.Conv1d(en_in_channels, out_channels=2, kernel_size=1)\n",
    "        self.con_1x1_dec = nn.Conv1d(dec_in_channels, out_channels=2, kernel_size=1)\n",
    "        \n",
    "        \n",
    "        self.conv_1x1_after_add = nn.Conv1d(in_channels=2, out_channels=32, kernel_size=1)\n",
    "        # self.squeez_avg = avg_pool.squeeze(-1)\n",
    "        # self.conv_1x1_avg = nn.Conv1d(dec_in_channels, out_channels=2, kernel_size=1)\n",
    "        \n",
    "        \n",
    "        \n",
    "    def forward(self, enc_features, dec_features):\n",
    "        enc_avg = self.avg_pool(enc_features)\n",
    "        enc_max = self.max_pool(enc_features)\n",
    "        dec_avg = self.avg_pool(dec_features)\n",
    "        dec_max = self.max_pool(dec_features)\n",
    "        enc_squeez_avg = enc_max.squeeze(-1)\n",
    "        enc_squeez_max = enc_avg.squeeze(-1)\n",
    "        dec_squeez_avg = dec_max.squeeze(-1)\n",
    "        dec_squeez_max = dec_avg.squeeze(-1)\n",
    "        enc_con_1x1_avg = self.con_1x1_enc(enc_squeez_avg)\n",
    "        enc_con_1x1_max = self.con_1x1_enc(enc_squeez_max)\n",
    "        dec_con_1x1_avg = self.con_1x1_dec(dec_squeez_avg)\n",
    "        dec_con_1x1_max = self.con_1x1_dec(dec_squeez_max)\n",
    "\n",
    "        enc_add_max_avg = enc_con_1x1_avg + enc_con_1x1_max\n",
    "        dec_add_max_avg = dec_con_1x1_avg + dec_con_1x1_max\n",
    "        add_enc_dec = enc_add_max_avg + dec_add_max_avg\n",
    "        \n",
    "        # conv_1x1_after_add = nn.Conv1d(in_channels=2, out_channels=32, kernel_size=1)\n",
    "        conv_output = self.conv_1x1_after_add(add_enc_dec)\n",
    "        \n",
    "        un_squeez_dim = conv_output.unsqueeze(-1)\n",
    "        un_squeez_dim.shape\n",
    "        \n",
    "        final_output = torch.sigmoid(un_squeez_dim)\n",
    "        print(\"Final output shape after sigmoid activation:\", final_output.shape)\n",
    "\n",
    "    \n",
    "        return final_output"
   ]
  },
  {
   "cell_type": "code",
   "execution_count": 7,
   "metadata": {},
   "outputs": [
    {
     "name": "stdout",
     "output_type": "stream",
     "text": [
      "Final output shape after sigmoid activation: torch.Size([1, 32, 1, 1])\n",
      "Output shape: torch.Size([1, 32, 1, 1])\n"
     ]
    }
   ],
   "source": [
    "if __name__ == \"__main__\":\n",
    "    enc_features = torch.randn(1, 32, 64, 64)\n",
    "    dec_features = torch.randn(1, 32, 64, 64)\n",
    "    \n",
    "    model = Spatial_Attention(en_in_channels=32, dec_in_channels=32)\n",
    "    output = model(enc_features, dec_features)\n",
    "    print(\"Output shape:\", output.shape)"
   ]
  }
 ],
 "metadata": {
  "kernelspec": {
   "display_name": "BT_torch",
   "language": "python",
   "name": "python3"
  },
  "language_info": {
   "codemirror_mode": {
    "name": "ipython",
    "version": 3
   },
   "file_extension": ".py",
   "mimetype": "text/x-python",
   "name": "python",
   "nbconvert_exporter": "python",
   "pygments_lexer": "ipython3",
   "version": "3.12.8"
  }
 },
 "nbformat": 4,
 "nbformat_minor": 2
}
