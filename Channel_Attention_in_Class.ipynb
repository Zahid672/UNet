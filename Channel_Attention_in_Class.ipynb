{
 "cells": [
  {
   "cell_type": "code",
   "execution_count": 1,
   "metadata": {},
   "outputs": [],
   "source": [
    "import torch\n",
    "from torch import nn\n",
    "from torch.nn import functional as F\n",
    "\n",
    "from torch.nn import Conv2d"
   ]
  },
  {
   "cell_type": "code",
   "execution_count": 21,
   "metadata": {},
   "outputs": [],
   "source": [
    "enc_features2 = torch.randn(1, 32, 256, 256)\n",
    "\n",
    "dec_features2 = torch.randn(1, 64, 256, 256)"
   ]
  },
  {
   "cell_type": "code",
   "execution_count": 22,
   "metadata": {},
   "outputs": [],
   "source": [
    "class Channel_Attention(nn.Module):\n",
    "    def __init__(self, enc_in_channels, dec_in_channels):\n",
    "        super().__init__()\n",
    "        \n",
    "        self.avg_pool = nn.AdaptiveAvgPool3d((1, None, None))\n",
    "        self.max_pool = nn.AdaptiveMaxPool3d((1, None, None))\n",
    "        self.conv2d_enc  = nn.Conv2d(enc_in_channels, 1, kernel_size=1)\n",
    "        self.conv2d_dec  = nn.Conv2d(dec_in_channels, 1, kernel_size=1)\n",
    "       \n",
    "       \n",
    "    def forward(self, enc_features, dec_features):\n",
    "        # Input shape: (N, C, H, W)\n",
    "        # N, C, H, W = x.shape\n",
    "\n",
    "        # Average pooling across channels\n",
    "        avg_out = self.avg_pool(enc_features)\n",
    "        avg_out1 = self.avg_pool(dec_features)\n",
    "\n",
    "\n",
    "        # Max pooling across channels\n",
    "        max_out = self.max_pool(enc_features)\n",
    "        max_out1 = self.max_pool(dec_features)\n",
    "\n",
    "        # Conv2D to reduce channels to 1\n",
    "        en_conv_out = self.conv2d_enc(enc_features)\n",
    "        dec_conv_out = self.conv2d_dec(dec_features)\n",
    "        \n",
    "        concat_enc_features = torch.cat([avg_out, max_out, en_conv_out], dim=1)\n",
    "        # concat_enc_features.shape\n",
    "        \n",
    "        concat_dec_features = torch.cat([avg_out1, max_out1, dec_conv_out], dim=1)\n",
    "        # concat_dec_features.shape\n",
    "        \n",
    "        con_7x7 = Conv2d(in_channels=3, out_channels=1, kernel_size=7, padding=3)\n",
    "        output = con_7x7(concat_enc_features)\n",
    "        output.shape\n",
    "        \n",
    "        con2d7x7 = Conv2d(in_channels=3, out_channels=1, kernel_size=7, padding=3)\n",
    "        output1 = con2d7x7(concat_dec_features)\n",
    "        output1.shape\n",
    "\n",
    "        output2 = output + output1\n",
    "        output2.shape\n",
    "        \n",
    "        sigmoid = nn.Sigmoid()\n",
    "        output3 = sigmoid(output2)\n",
    "        output3.shape\n",
    "\n",
    "        return output3 # Return shape: (N, 1, H, W)\n",
    "    \n",
    "    ###concat_enc_features.unsqueeze, concat_dec_features\n",
    "    \n",
    "    \n",
    "\n",
    "\n",
    "\n",
    "\n",
    "\n"
   ]
  },
  {
   "cell_type": "code",
   "execution_count": 23,
   "metadata": {},
   "outputs": [
    {
     "data": {
      "text/plain": [
       "torch.Size([1, 1, 256, 256])"
      ]
     },
     "execution_count": 23,
     "metadata": {},
     "output_type": "execute_result"
    }
   ],
   "source": [
    "model = Channel_Attention(enc_in_channels=32, dec_in_channels=64)\n",
    "enc_dec_features = model(enc_features2, dec_features2)\n",
    "enc_dec_features.shape\n",
    "\n",
    "\n"
   ]
  }
 ],
 "metadata": {
  "kernelspec": {
   "display_name": "BT_torch",
   "language": "python",
   "name": "python3"
  },
  "language_info": {
   "codemirror_mode": {
    "name": "ipython",
    "version": 3
   },
   "file_extension": ".py",
   "mimetype": "text/x-python",
   "name": "python",
   "nbconvert_exporter": "python",
   "pygments_lexer": "ipython3",
   "version": "3.12.8"
  }
 },
 "nbformat": 4,
 "nbformat_minor": 2
}
