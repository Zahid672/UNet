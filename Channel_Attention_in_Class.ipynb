{
 "cells": [
  {
   "cell_type": "code",
   "execution_count": 24,
   "metadata": {},
   "outputs": [],
   "source": [
    "import torch\n",
    "from torch import nn\n",
    "from torch.nn import functional as F\n",
    "\n",
    "from torch.nn import Conv2d"
   ]
  },
  {
   "cell_type": "code",
   "execution_count": 21,
   "metadata": {},
   "outputs": [],
   "source": [
    "enc_features2 = torch.randn(1, 32, 256, 256)\n",
    "\n",
    "dec_features2 = torch.randn(1, 64, 256, 256) "
   ]
  },
  {
   "cell_type": "code",
   "execution_count": 31,
   "metadata": {},
   "outputs": [],
   "source": [
    "class Channel_Attention(nn.Module):\n",
    "    def __init__(self, enc_in_channels, dec_in_channels):\n",
    "        super().__init__()\n",
    "        \n",
    "        self.avg_pool = nn.AdaptiveAvgPool3d((1, None, None))\n",
    "        self.max_pool = nn.AdaptiveMaxPool3d((1, None, None))\n",
    "        self.conv2d_enc  = nn.Conv2d(enc_in_channels, 1, kernel_size=1)\n",
    "        self.conv2d_dec  = nn.Conv2d(dec_in_channels, 1, kernel_size=1)\n",
    "       \n",
    "       \n",
    "    def forward(self, enc_features, dec_features):\n",
    "        # Input shape: (N, C, H, W)\n",
    "        # N, C, H, W = x.shape\n",
    "\n",
    "        # Average pooling across channels\n",
    "        enc_avg_out = self.avg_pool(enc_features)\n",
    "        dec_avg_out = self.avg_pool(dec_features)\n",
    "\n",
    "\n",
    "        # Max pooling across channels\n",
    "        enc_max_out = self.max_pool(enc_features)\n",
    "        dec_max_out = self.max_pool(dec_features)\n",
    "\n",
    "        # Conv2D to reduce channels to 1\n",
    "        en_conv_out = self.conv2d_enc(enc_features)\n",
    "        dec_conv_out = self.conv2d_dec(dec_features)\n",
    "        \n",
    "        concat_enc_features = torch.cat([enc_avg_out, enc_max_out, en_conv_out], dim=1)\n",
    "        # concat_enc_features.shape\n",
    "        \n",
    "        concat_dec_features = torch.cat([dec_conv_out, dec_max_out, dec_conv_out], dim=1)\n",
    "        # concat_dec_features.shape\n",
    "        \n",
    "        enc_con_7x7 = Conv2d(in_channels=3, out_channels=1, kernel_size=7, padding=3)\n",
    "        enc_conv_7x7_output = enc_con_7x7(concat_enc_features)\n",
    "        enc_conv_7x7_output.shape\n",
    "        \n",
    "        dec_con2d7x7 = Conv2d(in_channels=3, out_channels=1, kernel_size=7, padding=3)\n",
    "        dec_conv_7x7_output = dec_con2d7x7(concat_dec_features)\n",
    "        dec_conv_7x7_output.shape\n",
    "\n",
    "        enc_dec_addition = enc_conv_7x7_output + dec_conv_7x7_output\n",
    "        enc_dec_addition.shape\n",
    "        \n",
    "        sigmoid = nn.Sigmoid()\n",
    "        final_output = sigmoid(enc_dec_addition)\n",
    "        final_output.shape\n",
    "\n",
    "        return final_output # Return shape: (N, 1, H, W)\n",
    "    \n",
    "    ###concat_enc_features.unsqueeze, concat_dec_features\n",
    "    \n",
    "    \n",
    "\n",
    "\n",
    "\n",
    "\n",
    "\n"
   ]
  },
  {
   "cell_type": "code",
   "execution_count": 32,
   "metadata": {},
   "outputs": [
    {
     "data": {
      "text/plain": [
       "torch.Size([1, 1, 256, 256])"
      ]
     },
     "execution_count": 32,
     "metadata": {},
     "output_type": "execute_result"
    }
   ],
   "source": [
    "model = Channel_Attention(enc_in_channels=32, dec_in_channels=64)\n",
    "enc_dec_features = model(enc_features2, dec_features2)\n",
    "enc_dec_features.shape\n",
    "\n",
    "\n"
   ]
  }
 ],
 "metadata": {
  "kernelspec": {
   "display_name": "BT_torch",
   "language": "python",
   "name": "python3"
  },
  "language_info": {
   "codemirror_mode": {
    "name": "ipython",
    "version": 3
   },
   "file_extension": ".py",
   "mimetype": "text/x-python",
   "name": "python",
   "nbconvert_exporter": "python",
   "pygments_lexer": "ipython3",
   "version": "3.12.8"
  }
 },
 "nbformat": 4,
 "nbformat_minor": 2
}
