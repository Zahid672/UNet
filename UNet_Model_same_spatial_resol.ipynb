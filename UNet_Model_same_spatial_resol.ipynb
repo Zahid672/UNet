{
 "cells": [
  {
   "cell_type": "code",
   "execution_count": 1,
   "metadata": {},
   "outputs": [],
   "source": [
    "import torch\n",
    "import torch.nn as nn"
   ]
  },
  {
   "cell_type": "code",
   "execution_count": 2,
   "metadata": {},
   "outputs": [],
   "source": [
    "### We use padding to keep the size of the input and output the same after convolution\n",
    "### We use batch normalization to speed up the training process\n",
    "def double_conv(in_c, out_c):\n",
    "    conv = nn.Sequential(\n",
    "        nn.Conv2d(in_c, out_c, kernel_size=3, padding=1, stride=1),\n",
    "        nn.BatchNorm2d(out_c),\n",
    "        nn.ReLU(inplace=True),\n",
    "        nn.Conv2d(out_c, out_c, kernel_size=3, padding=1, stride=1),\n",
    "        nn.BatchNorm2d(out_c),\n",
    "        nn.ReLU(inplace=True)\n",
    "    )\n",
    "    return conv"
   ]
  },
  {
   "cell_type": "code",
   "execution_count": 3,
   "metadata": {},
   "outputs": [],
   "source": [
    "class UNet(nn.Module):\n",
    "    def __init__(self):\n",
    "        super(UNet, self).__init__()\n",
    "        ### 1st part encoder\n",
    "        self.max_pool_2x2 = nn.MaxPool2d(kernel_size=2, stride=2)\n",
    "        self.down_conv_1 = double_conv(3, 64)\n",
    "        self.down_conv_2 = double_conv(64, 128)\n",
    "        self.down_conv_3 = double_conv(128, 256)\n",
    "        self.down_conv_4 = double_conv(256, 512)\n",
    "        self.down_conv_5 = double_conv(512, 1024)\n",
    "        \n",
    "        ### 2nd part decoder\n",
    "        self.up_trans_1 = nn.ConvTranspose2d(\n",
    "            in_channels=1024, \n",
    "            out_channels=512, \n",
    "            kernel_size=2, \n",
    "            stride=2)\n",
    "        \n",
    "        self.up_conv_1 = double_conv(1024, 512)\n",
    "        \n",
    "        self.up_trans_2 = nn.ConvTranspose2d(\n",
    "            in_channels=512, \n",
    "            out_channels=256, \n",
    "            kernel_size=2, \n",
    "            stride=2)\n",
    "        \n",
    "        self.up_conv_2 = double_conv(512, 256)\n",
    "        \n",
    "        self.up_trans_3 = nn.ConvTranspose2d(\n",
    "            in_channels=256, \n",
    "            out_channels=128, \n",
    "            kernel_size=2, \n",
    "            stride=2)\n",
    "        \n",
    "        self.up_conv_3 = double_conv(256, 128)\n",
    "        \n",
    "        self.up_trans_4 = nn.ConvTranspose2d(\n",
    "            in_channels=128, \n",
    "            out_channels=64, \n",
    "            kernel_size=2, \n",
    "            stride=2)\n",
    "        \n",
    "        self.up_conv_4 = double_conv(128, 64)\n",
    "        \n",
    "        self.out = nn.Conv2d(\n",
    "            in_channels=64,\n",
    "            out_channels=2,\n",
    "            kernel_size=1\n",
    "        )\n",
    "        \n",
    "    def forward(self, image):\n",
    "        # encoder\n",
    "        x1 = self.down_conv_1(image) # we will need x1, x3, x5, x7 in the decoder part. We don't need x9 in the decoder part because there is no maxpooling.\n",
    "        print(\"Output after 1st convolution:\", x1.size())\n",
    "        x2 = self.max_pool_2x2(x1)\n",
    "        x3 = self.down_conv_2(x2) #\n",
    "        x4 = self.max_pool_2x2(x3)\n",
    "        x5 = self.down_conv_3(x4) #\n",
    "        x6 = self.max_pool_2x2(x5)\n",
    "        x7 = self.down_conv_4(x6) #\n",
    "        x8 = self.max_pool_2x2(x7)\n",
    "        x9 = self.down_conv_5(x8)\n",
    "        print(\"Output after 5th convolution:\", x9.size())\n",
    "        \n",
    "        #This is decoder part\n",
    "        x = self.up_trans_1(x9)\n",
    "        print(\"Output of 1st up-convolution:\", x.size())\n",
    "        print(\"Output after 4th convolution:\", x7.size())\n",
    "        x = self.up_conv_1(torch.cat([x, x7], 1))\n",
    "        print(x.size())\n",
    "        x = self.up_trans_2(x)\n",
    "        print(\"Output of 2nd up-convolution:\", x.size())\n",
    "        x = self.up_conv_2(torch.cat([x, x5], 1))\n",
    "        print(x.size())\n",
    "        x = self.up_trans_3(x)\n",
    "        x = self.up_conv_3(torch.cat([x, x3], 1))\n",
    "        x = self.up_trans_4(x)\n",
    "        x = self.up_conv_4(torch.cat([x, x1], 1))\n",
    "        print(x.size())\n",
    "        x = self.out(x)\n",
    "        return x\n",
    "        \n",
    "        \n",
    "        \n",
    "        "
   ]
  },
  {
   "cell_type": "code",
   "execution_count": 4,
   "metadata": {},
   "outputs": [
    {
     "name": "stdout",
     "output_type": "stream",
     "text": [
      "Output after 1st convolution: torch.Size([1, 64, 512, 512])\n",
      "Output after 5th convolution: torch.Size([1, 1024, 32, 32])\n",
      "Output of 1st up-convolution: torch.Size([1, 512, 64, 64])\n",
      "Output after 4th convolution: torch.Size([1, 512, 64, 64])\n",
      "torch.Size([1, 512, 64, 64])\n",
      "Output of 2nd up-convolution: torch.Size([1, 256, 128, 128])\n",
      "torch.Size([1, 256, 128, 128])\n",
      "torch.Size([1, 64, 512, 512])\n",
      "Final shape torch.Size([1, 2, 512, 512])\n"
     ]
    }
   ],
   "source": [
    "if __name__ == '__main__':\n",
    "        image = torch.rand((1, 3, 512, 512))\n",
    "        model = UNet()\n",
    "        # print(model(image))\n",
    "        output = model(image)\n",
    "        print(\"Final shape\", output.shape)"
   ]
  }
 ],
 "metadata": {
  "kernelspec": {
   "display_name": "BT_torch",
   "language": "python",
   "name": "python3"
  },
  "language_info": {
   "codemirror_mode": {
    "name": "ipython",
    "version": 3
   },
   "file_extension": ".py",
   "mimetype": "text/x-python",
   "name": "python",
   "nbconvert_exporter": "python",
   "pygments_lexer": "ipython3",
   "version": "3.12.8"
  }
 },
 "nbformat": 4,
 "nbformat_minor": 2
}
